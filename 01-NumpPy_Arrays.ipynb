{
 "cells": [
  {
   "cell_type": "code",
   "execution_count": 2,
   "metadata": {},
   "outputs": [],
   "source": [
    "import numpy as np"
   ]
  },
  {
   "cell_type": "markdown",
   "metadata": {},
   "source": [
    "Work with the NUmpy arrays with of One DImension\n"
   ]
  },
  {
   "cell_type": "code",
   "execution_count": 3,
   "metadata": {},
   "outputs": [
    {
     "name": "stdout",
     "output_type": "stream",
     "text": [
      "[1 2 3 4 5 6]\n",
      "the number of dimensions in the array is:  1\n"
     ]
    }
   ],
   "source": [
    "oneDarrauy = np.array([1,2,3,4,5,6])\n",
    "print(oneDarrauy)\n",
    "print(\"the number of dimensions in the array is: \", oneDarrauy.ndim)\n"
   ]
  },
  {
   "cell_type": "markdown",
   "metadata": {},
   "source": [
    "Arrays with two DIme dimension"
   ]
  },
  {
   "cell_type": "code",
   "execution_count": 4,
   "metadata": {},
   "outputs": [
    {
     "name": "stdout",
     "output_type": "stream",
     "text": [
      "[[1 2 3 4]\n",
      " [2 3 4 5]]\n",
      "the number of dimensions in the array is:  2\n"
     ]
    }
   ],
   "source": [
    "twoDarrays =  np.array([[1,2,3,4],\n",
    "                        [2,3,4,5]])\n",
    "print(twoDarrays)\n",
    "print(\"the number of dimensions in the array is: \",twoDarrays.ndim)"
   ]
  },
  {
   "cell_type": "markdown",
   "metadata": {},
   "source": [
    "Work whit tree Dimension Arrays "
   ]
  },
  {
   "cell_type": "code",
   "execution_count": 7,
   "metadata": {},
   "outputs": [
    {
     "name": "stdout",
     "output_type": "stream",
     "text": [
      "[[[ 1  2  3]\n",
      "  [ 4  5  6]]\n",
      "\n",
      " [[-2 -3 -4]\n",
      "  [12 32 34]]]\n",
      "the number of dimensions in the array is:  4\n"
     ]
    }
   ],
   "source": [
    "ThreeDarrays = np.array([\n",
    "[[1,2,3],[4,5,6]],\n",
    "[[-2,-3,-4],[12,32,34]]\n",
    "])\n",
    "print(ThreeDarrays)\n",
    "print(\"the number of dimensions in the array is: \", ThreeDarrays[0][1][0])"
   ]
  }
 ],
 "metadata": {
  "kernelspec": {
   "display_name": "Python 3",
   "language": "python",
   "name": "python3"
  },
  "language_info": {
   "codemirror_mode": {
    "name": "ipython",
    "version": 3
   },
   "file_extension": ".py",
   "mimetype": "text/x-python",
   "name": "python",
   "nbconvert_exporter": "python",
   "pygments_lexer": "ipython3",
   "version": "3.11.0"
  },
  "orig_nbformat": 4,
  "vscode": {
   "interpreter": {
    "hash": "c261aea317cc0286b3b3261fbba9abdec21eaa57589985bb7a274bf54d6cc0a7"
   }
  }
 },
 "nbformat": 4,
 "nbformat_minor": 2
}
